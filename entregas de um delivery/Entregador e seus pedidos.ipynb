{
 "cells": [
  {
   "cell_type": "markdown",
   "id": "5a4d8307",
   "metadata": {},
   "source": [
    "\n",
    "Para efetuar uma distribuição eficiente de pedidos entre os entregadores, um aplicativo de entrega utiliza a seguinte regra simples:\n",
    "\n",
    "Cada entregador pode transportar, em uma única viagem, no máximo 5 pedidos.\n",
    "Os pedidos atribuídos a um entregador devem ser aqueles localizados a uma distância máxima de 10 km do restaurante, respeitando a regra anterior.\n",
    "Para realizar essa distribuição, o aplicativo recebe uma lista em que cada elemento representa a distância (em linha reta) entre a casa que fez o pedido e o restaurante. O objetivo é criar um código que atribua esses pedidos a um entregador, seguindo as regras mencionadas.\n",
    "\n",
    "A saída desejada é uma lista que contém os índices dos elementos da lista original que farão parte da corrida do entregador, priorizando os primeiros elementos da lista."
   ]
  },
  {
   "cell_type": "code",
   "execution_count": 1,
   "id": "640e6403",
   "metadata": {},
   "outputs": [
    {
     "name": "stdout",
     "output_type": "stream",
     "text": [
      "\n",
      "Portanto, o entregador estará fazendo as entregas dos pedidos com índice:  [1, 3, 5, 6, 7]\n"
     ]
    }
   ],
   "source": [
    "#o máximo 5 pedidos, 10 km do restaurante\n",
    "listateste = [12,9,15,3,16,10,2,4,11,20]\n",
    "listadeentrega = []\n",
    "for i in range(0,len(listateste)):\n",
    "    if listateste[i] <= 10 and len(listadeentrega) < 5:\n",
    "        listadeentrega.append(i)\n",
    "        \n",
    "#considerando que o python comeca com 0 o seu indice!        \n",
    "print(\"\\nPortanto, o entregador estará fazendo as entregas dos pedidos com índice: \",listadeentrega)"
   ]
  }
 ],
 "metadata": {
  "kernelspec": {
   "display_name": "Python 3 (ipykernel)",
   "language": "python",
   "name": "python3"
  },
  "language_info": {
   "codemirror_mode": {
    "name": "ipython",
    "version": 3
   },
   "file_extension": ".py",
   "mimetype": "text/x-python",
   "name": "python",
   "nbconvert_exporter": "python",
   "pygments_lexer": "ipython3",
   "version": "3.9.13"
  }
 },
 "nbformat": 4,
 "nbformat_minor": 5
}
