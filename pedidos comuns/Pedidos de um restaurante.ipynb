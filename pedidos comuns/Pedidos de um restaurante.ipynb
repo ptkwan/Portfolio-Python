{
 "cells": [
  {
   "cell_type": "markdown",
   "id": "f756b0e4",
   "metadata": {},
   "source": [
    "Um restaurante quer descobrir quais itens são mais populares em seu aplicativo de entrega. Eles têm uma lista com os nomes dos produtos na ordem em que foram pedidos, incluindo produtos repetidos. Para isso, crie um programa que liste os produtos em ordem alfabética e mostre quantas vezes cada um foi solicitado, com um traço separando o nome do produto e a quantidade vendida."
   ]
  },
  {
   "cell_type": "code",
   "execution_count": 2,
   "id": "2ac1b8f1",
   "metadata": {},
   "outputs": [
    {
     "name": "stdout",
     "output_type": "stream",
     "text": [
      "Cerveja - 2\n",
      "Fritas - 3\n",
      "Hambúrguer - 2\n",
      "Refrigerante - 1\n"
     ]
    }
   ],
   "source": [
    "produtos = [\"Hambúrguer\", \"Fritas\", \"Fritas\", \"Refrigerante\", \"Fritas\", \"Hambúrguer\", \"Cerveja\", \"Cerveja\"]\n",
    "\n",
    "#vamos fazer com um count, facilitará! Vou separar ao inves de fazer direto para ficar mais visual!\n",
    "\n",
    "produtos.sort()\n",
    "nova = []\n",
    "for i in produtos:\n",
    "    if i not in nova:\n",
    "        nova.append(i)\n",
    "        qtd = produtos.count(i)\n",
    "        print(f\"{i} - {qtd}\")"
   ]
  }
 ],
 "metadata": {
  "kernelspec": {
   "display_name": "Python 3 (ipykernel)",
   "language": "python",
   "name": "python3"
  },
  "language_info": {
   "codemirror_mode": {
    "name": "ipython",
    "version": 3
   },
   "file_extension": ".py",
   "mimetype": "text/x-python",
   "name": "python",
   "nbconvert_exporter": "python",
   "pygments_lexer": "ipython3",
   "version": "3.9.13"
  }
 },
 "nbformat": 4,
 "nbformat_minor": 5
}
