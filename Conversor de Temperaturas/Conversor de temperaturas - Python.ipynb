{
 "cells": [
  {
   "cell_type": "code",
   "execution_count": 2,
   "id": "3f3422ea",
   "metadata": {},
   "outputs": [
    {
     "name": "stdout",
     "output_type": "stream",
     "text": [
      "\n",
      "Olá, para converter diga para mim qual a temperatura sem a escala?\n",
      "3\n",
      "\n",
      "Agora diga se são 3.0 Celsius - 'C', Kelvin - 'K' ou Fahrenheit - 'F'?\n",
      "c\n",
      "Você deseja converter 3.0 C para 'Kelvin - 'K' ou Fahrenheit - 'F'?'\n",
      "F\n",
      "\n",
      "Portanto, a conversão de 3.0 C para F = 37.4\n"
     ]
    }
   ],
   "source": [
    "i = 0\n",
    "while i == 0:\n",
    "    # código para receber o valor numérico da temperatura desejada em float, por ser float nao consigo utilizar isdigit...\n",
    "    temperatura = float(input(\"\\nOlá, para converter diga para mim qual a temperatura sem a escala?\\n\"))\n",
    "    \n",
    "    # código para receber a escala original da temperatura informada, com upper caso ele escreve minusculo\n",
    "    escala_original = input(f\"\\nAgora diga se são {temperatura} Celsius - 'C', Kelvin - 'K' ou Fahrenheit - 'F'?\\n\").upper()\n",
    "    if escala_original == 'C' or escala_original == 'K' or escala_original == 'F':\n",
    "        #se ele nao digitar certo, ele reescreve ate acertar!\n",
    "        if escala_original == 'K' and temperatura == 0:\n",
    "            print(\"\\nNão se pode ter 0 Kelvin, coloque outra temperatura! Vamos novamente!\")\n",
    "        else:\n",
    "            i = 1\n",
    "    else:\n",
    "        print(\"\\nEscala incorreta\")\n",
    "# código para receber a escala para a qual deseja-se converter a temperatura        \n",
    "if escala_original == 'C':\n",
    "    escala_convertida = input(f\"Você deseja converter {temperatura} {escala_original} para 'Kelvin - 'K' ou Fahrenheit - 'F'?'\\n\").upper()\n",
    "\n",
    "elif escala_original == 'F':\n",
    "    escala_convertida = input(f\"Você deseja converter {temperatura} {escala_original} para Celsius - 'C' ou Kelvin - 'K'?\\n\").upper()\n",
    "\n",
    "elif escala_original == 'K':\n",
    "    escala_convertida = input(f\"Você deseja converter {temperatura} {escala_original} para Celsius - 'C' ou Fahrenheit - 'F'?\\n\").upper()\n",
    "    \n",
    "# implemente abaixo toda a lógica de conversão de temperaturas, bem como as validações necessárias\n",
    "\n",
    "if escala_original == 'C' and escala_convertida == 'F':\n",
    "    tcf = temperatura * (9/5) + 32\n",
    "    print(f\"\\nPortanto, a conversão de {temperatura} {escala_original} para {escala_convertida} = {tcf}\")\n",
    "\n",
    "elif escala_original == 'F' and escala_convertida == 'C':\n",
    "    tfc = (temperatura-32) * (5/9)\n",
    "    print(f\"\\nPortanto, a conversão de {temperatura} {escala_original} para {escala_convertida} = {tfc}\")\n",
    "    \n",
    "elif escala_original == 'C' and escala_convertida == 'K':\n",
    "    tck = temperatura + 273\n",
    "    print(f\"\\nPortanto, a conversão de {temperatura} {escala_original} para {escala_convertida} = {tck}\")\n",
    "    \n",
    "elif escala_original == 'K' and escala_convertida == 'C':\n",
    "    tkc = temperatura - 273\n",
    "    print(f\"\\nPortanto, a conversão de {temperatura} {escala_original} para {escala_convertida} = {tkc}\")\n",
    "\n",
    "elif escala_original == 'K' and escala_convertida == 'F':\n",
    "    tkf = (temperatura - 273)* (9/5) + 32\n",
    "    print(f\"\\nPortanto, a conversão de {temperatura} {escala_original} para {escala_convertida} = {tkf}\")  \n",
    "    \n",
    "elif escala_original == 'F' and escala_convertida == 'K':\n",
    "    tfk = (temperatura - 32) * (5/9) + 273\n",
    "    print(f\"\\nPortanto, a conversão de {temperatura} {escala_original} para {escala_convertida} = {tfk}\")"
   ]
  }
 ],
 "metadata": {
  "kernelspec": {
   "display_name": "Python 3 (ipykernel)",
   "language": "python",
   "name": "python3"
  },
  "language_info": {
   "codemirror_mode": {
    "name": "ipython",
    "version": 3
   },
   "file_extension": ".py",
   "mimetype": "text/x-python",
   "name": "python",
   "nbconvert_exporter": "python",
   "pygments_lexer": "ipython3",
   "version": "3.9.13"
  }
 },
 "nbformat": 4,
 "nbformat_minor": 5
}
